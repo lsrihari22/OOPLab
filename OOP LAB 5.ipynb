{
  "nbformat": 4,
  "nbformat_minor": 0,
  "metadata": {
    "colab": {
      "name": "Untitled0.ipynb",
      "provenance": [],
      "authorship_tag": "ABX9TyPW/ncVJ/oC/NNpyVAsi9cl",
      "include_colab_link": true
    },
    "kernelspec": {
      "name": "python3",
      "display_name": "Python 3"
    },
    "language_info": {
      "name": "python"
    }
  },
  "cells": [
    {
      "cell_type": "markdown",
      "metadata": {
        "id": "view-in-github",
        "colab_type": "text"
      },
      "source": [
        "<a href=\"https://colab.research.google.com/github/lsrihari22/OOPLab/blob/main/OOP%20LAB%205.ipynb\" target=\"_parent\"><img src=\"https://colab.research.google.com/assets/colab-badge.svg\" alt=\"Open In Colab\"/></a>"
      ]
    },
    {
      "cell_type": "code",
      "metadata": {
        "colab": {
          "base_uri": "https://localhost:8080/"
        },
        "id": "6zsJ0faHruGe",
        "outputId": "38f16b49-8096-43e6-d258-101f4afc7d89"
      },
      "source": [
        "from abc import ABC, abstractmethod\n",
        "import math\n",
        "class Shape(ABC):\n",
        "    def __init__(self, shape):\n",
        "        self.shape = shape\n",
        "\n",
        "    @abstractmethod\n",
        "    def area(self):\n",
        "        pass\n",
        "\n",
        "class Rectangle(Shape):\n",
        "    def __init__(self, length, breadth):\n",
        "        Shape.__init__(self, 'Rectangle')\n",
        "        self.length = length\n",
        "        self.breadth = breadth\n",
        "\n",
        "    def area(self):\n",
        "        return self.length*self.breadth\n",
        "\n",
        "class Circle(Shape):\n",
        "    def __init__(self, radius):\n",
        "        Shape.__init__(self, 'Circle')\n",
        "        self.radius = radius\n",
        "\n",
        "    def area(self):\n",
        "        return round((math.pi)*(self.radius*2),3)\n",
        "\n",
        "class Square(Shape):\n",
        "    def __init__(self, side):\n",
        "        Shape.__init__(self, 'Square')\n",
        "        self.side = side\n",
        "\n",
        "    def area(self):\n",
        "        return self.side*self.side\n",
        "\n",
        "sq = Square(5)\n",
        "print(\"Area of square   :\", sq.area())\n",
        "rect = Rectangle(2,3)\n",
        "print(\"Area of rectangle:\", rect.area())\n",
        "c = Circle(4)\n",
        "print(\"Area of circle   :\", c.area())"
      ],
      "execution_count": 16,
      "outputs": [
        {
          "output_type": "stream",
          "name": "stdout",
          "text": [
            "Area of square   : 25\n",
            "Area of rectangle: 6\n",
            "Area of circle   : 25.133\n"
          ]
        }
      ]
    },
    {
      "cell_type": "code",
      "metadata": {
        "colab": {
          "base_uri": "https://localhost:8080/"
        },
        "id": "lFRsytoYt0Hy",
        "outputId": "7307e77b-b2bf-4653-a6ce-7fea5b86c330"
      },
      "source": [
        "class Travel:\n",
        "\n",
        "  def __init__(self, travel):\n",
        "    self.travel = travel\n",
        "\n",
        "  def __number_of_passangers(self):\n",
        "    pass\n",
        "\n",
        "  def distance(self):\n",
        "    pass\n",
        "\n",
        "  def mode(self):\n",
        "    pass\n",
        "\n",
        "class train(Travel):\n",
        "\n",
        "  def __init__(self, total_passangers):\n",
        "    self.total_passangers = total_passangers\n",
        "\n",
        "  def cost_of_transport(self):\n",
        "    print(self.total_passangers*60)\n",
        "\n",
        "class bus(Travel):\n",
        "\n",
        "  def __init__(self, total_passangers):\n",
        "    self.total_passangers = total_passangers\n",
        "\n",
        "  def cost_of_transport(self):\n",
        "    print(self.total_passangers*100)\n",
        "\n",
        "mode1 = train(523)\n",
        "mode1.cost_of_transport()\n",
        "\n",
        "mode2 = bus(100)\n",
        "mode2.cost_of_transport()"
      ],
      "execution_count": 8,
      "outputs": [
        {
          "output_type": "stream",
          "name": "stdout",
          "text": [
            "31380\n",
            "10000\n"
          ]
        }
      ]
    },
    {
      "cell_type": "code",
      "metadata": {
        "colab": {
          "base_uri": "https://localhost:8080/"
        },
        "id": "SQUxxNkPuJ5j",
        "outputId": "4eb409fb-8c00-4540-ffd0-1092e48d212b"
      },
      "source": [
        "class Car:\n",
        "\n",
        "  def __init__(self, model_no):\n",
        "    self.model_no = model_no\n",
        "\n",
        "  def print_model_no(self):\n",
        "    print(self.model_no)\n",
        "\n",
        "c1 = Car(\"model no. of c1 = a123\")\n",
        "c1.print_model_no()\n",
        "\n",
        "c2 = Car(\"model no. of c2 = b123\")\n",
        "c2.print_model_no()\n",
        "print(\"\\n\")\n",
        "\n",
        "var = c1\n",
        "c1 = c2\n",
        "c2 = var\n",
        "\n",
        "c1.print_model_no()\n",
        "c2.print_model_no()"
      ],
      "execution_count": 10,
      "outputs": [
        {
          "output_type": "stream",
          "name": "stdout",
          "text": [
            "model no. of c1 = a123\n",
            "model no. of c2 = b123\n",
            "\n",
            "\n",
            "model no. of c2 = b123\n",
            "model no. of c1 = a123\n"
          ]
        }
      ]
    }
  ]
}