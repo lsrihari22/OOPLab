{
  "nbformat": 4,
  "nbformat_minor": 0,
  "metadata": {
    "colab": {
      "name": "OOP_Lab-2.ipynb",
      "provenance": [],
      "collapsed_sections": [],
      "authorship_tag": "ABX9TyOT8uz6MsmpHWI/H79yzt4M",
      "include_colab_link": true
    },
    "kernelspec": {
      "name": "python3",
      "display_name": "Python 3"
    },
    "language_info": {
      "name": "python"
    }
  },
  "cells": [
    {
      "cell_type": "markdown",
      "metadata": {
        "id": "view-in-github",
        "colab_type": "text"
      },
      "source": [
        "<a href=\"https://colab.research.google.com/github/lsrihari22/OOPLab/blob/main/OOP_Lab_2.ipynb\" target=\"_parent\"><img src=\"https://colab.research.google.com/assets/colab-badge.svg\" alt=\"Open In Colab\"/></a>"
      ]
    },
    {
      "cell_type": "markdown",
      "metadata": {
        "id": "DWLXHa9frTm-"
      },
      "source": [
        "# **PROBLEM-1**"
      ]
    },
    {
      "cell_type": "code",
      "metadata": {
        "colab": {
          "base_uri": "https://localhost:8080/"
        },
        "id": "TXK_yeihoidW",
        "outputId": "e421b392-7bc7-4057-84e8-b6d2a0325e20"
      },
      "source": [
        "class circle:\n",
        " rad=int(input(\"Enter the radius of the circle: \"))\n",
        "\n",
        " def area (self,r):\n",
        "  print(\"The area of the circle is:\",(3.14*r*r),\"units\")\n",
        "\n",
        " def perimeter (self,r):\n",
        "  print(\"The perimeter of the circle is:\",(2*3.14*r),\"units\")\n",
        "\n",
        "a=circle()\n",
        "a.area(rad)\n",
        "a.perimeter(rad)  "
      ],
      "execution_count": null,
      "outputs": [
        {
          "output_type": "stream",
          "name": "stdout",
          "text": [
            "Enter the radius of the circle: 1\n",
            "The area of the circle is: 3.14 units\n",
            "The perimeter of the circle is: 6.28 units\n"
          ]
        }
      ]
    },
    {
      "cell_type": "markdown",
      "metadata": {
        "id": "ycCLViWLrbTC"
      },
      "source": [
        "# **PROBLEM-2**"
      ]
    },
    {
      "cell_type": "code",
      "metadata": {
        "id": "4JVk2wkzrStf",
        "colab": {
          "base_uri": "https://localhost:8080/"
        },
        "outputId": "5968dce1-e192-47b0-bab3-f75c6876c87f"
      },
      "source": [
        "name = []\n",
        "emp_id = []\n",
        "branch = []\n",
        "salary = []\n",
        "n = int(input(\"Enter number of elements in a list :\"))\n",
        "for i in range(0,n):\n",
        "  fac_name = input(\"Enter name of faculty : \")\n",
        "  fac_emp_id = input(\"Enter emp id : \")\n",
        "  fac_branch = input(\"Enter the branch of the faculty : \")\n",
        "  fac_salary = input(\"Enter salary of the faculty : \")\n",
        "  name.append(fac_name)\n",
        "  emp_id.append(fac_emp_id)\n",
        "  branch.append(fac_branch)\n",
        "  salary.append(fac_salary)\n",
        "\n",
        "print(\"\\nDetails of the\" ,n ,\"faculties are :\")\n",
        "for j in range(0,n):\n",
        "  print(name[j],emp_id[j],branch[j],salary[j])"
      ],
      "execution_count": null,
      "outputs": [
        {
          "output_type": "stream",
          "name": "stdout",
          "text": [
            "Enter number of elements in a list :2\n",
            "Enter name of faculty : a\n",
            "Enter emp id : 1\n",
            "Enter the branch of the faculty : a\n",
            "Enter salary of the faculty : 1\n",
            "Enter name of faculty : s\n",
            "Enter emp id : 2\n",
            "Enter the branch of the faculty : s\n",
            "Enter salary of the faculty : 2\n",
            "\n",
            "Details of the 2 faculties are :\n",
            "a 1 a 1\n",
            "s 2 s 2\n"
          ]
        }
      ]
    },
    {
      "cell_type": "markdown",
      "metadata": {
        "id": "qLnfKg7r2NrW"
      },
      "source": [
        "# **PROBLEM-3**"
      ]
    },
    {
      "cell_type": "code",
      "metadata": {
        "colab": {
          "base_uri": "https://localhost:8080/"
        },
        "id": "ok1g4T6R2RJE",
        "outputId": "fccee83b-937a-4784-9889-3ab898048e14"
      },
      "source": [
        "class account:\n",
        "  def __init__(self,Acc_no,Name,Amt):\n",
        "    self.number = Acc_no\n",
        "    self.name = Name\n",
        "    self.amount = Amt\n",
        "  def Deposit(self,Amt):\n",
        "    self.amount += Amt\n",
        "  def Withdraw(self,Amt):\n",
        "    if Amt > self.amount:\n",
        "      print(\"Insufficient balance\")\n",
        "      exit\n",
        "    else:\n",
        "      self.amount -= Amt\n",
        "  def Checkbalance(self):\n",
        "    print(self.amount)\n",
        "  def Accountdetails(self):\n",
        "    print(\"Account details are:\")\n",
        "    print(self.number,self.name,self.amount)\n",
        "  \n",
        "acc = account(\"2205\",\"SRI HARI\",2000)\n",
        "acc.Deposit(100)\n",
        "acc.Checkbalance()\n",
        "acc.Withdraw(1200)\n",
        "acc.Checkbalance()\n",
        "acc.Withdraw(200)\n",
        "acc.Accountdetails()"
      ],
      "execution_count": null,
      "outputs": [
        {
          "output_type": "stream",
          "name": "stdout",
          "text": [
            "2100\n",
            "900\n",
            "Account details are:\n",
            "2205 SRI HARI 700\n"
          ]
        }
      ]
    },
    {
      "cell_type": "markdown",
      "metadata": {
        "id": "7KHyw9JA2P4E"
      },
      "source": [
        "# **PROBLEM-4**"
      ]
    },
    {
      "cell_type": "code",
      "metadata": {
        "colab": {
          "base_uri": "https://localhost:8080/"
        },
        "id": "hPz-2YNh5FDn",
        "outputId": "32a1c6ae-ee3c-4cb9-f87a-ed7a75b61184"
      },
      "source": [
        "def display():\n",
        "  print(name,USN)\n",
        "  for i in range(0,3):\n",
        "    print(subjects[i] , \"-\" ,marks[i])\n",
        "\n",
        "subjects = []\n",
        "marks = []\n",
        "name = input(\"Enter the name of the student : \")\n",
        "USN = input(\"Enter USN of the student : \")\n",
        "for j in range(0,3):\n",
        "  subject  = input(\"Enter name of the subject : \")\n",
        "  subjects.append(subject)\n",
        "  mark = input(\"Enter the mark of the subject : \")\n",
        "  marks.append(mark)\n",
        "\n",
        "display()"
      ],
      "execution_count": null,
      "outputs": [
        {
          "name": "stdout",
          "output_type": "stream",
          "text": [
            "Enter the name of the student : abc\n",
            "Enter USN of the student : 129\n"
          ]
        }
      ]
    },
    {
      "cell_type": "markdown",
      "metadata": {
        "id": "9lLPWdMt-U2E"
      },
      "source": [
        "# **PROBLEM-5**"
      ]
    },
    {
      "cell_type": "code",
      "metadata": {
        "colab": {
          "base_uri": "https://localhost:8080/",
          "height": 522
        },
        "id": "IVKj4VC4-UZo",
        "outputId": "a515c294-a3ae-4483-9748-7b22110d4440"
      },
      "source": [
        "class hospital:\n",
        "  c1 , c2 = 0 , 0\n",
        "  def __init__(self,name):\n",
        "    self.name = name\n",
        "    list_of_symptoms = []\n",
        "    date_of_admission = input(\"Date of admission :\")\n",
        "    date_of_discharge = input(\"Date of discharge :\")\n",
        "    n = int(input(\"Total number of symptoms : \"))\n",
        "    for i in range(0,n):\n",
        "      symptom = input()\n",
        "      list_of_symptoms.append(symptom)\n",
        "    oxygen_level = input(\"Enter oxygen level : \")\n",
        "    if oxygen_level < \"90\":\n",
        "      print(\"Oxygen mask is required\")\n",
        "      hospital.c1 = hospital.c1 + 1\n",
        "    else:\n",
        "      print(\"Normal observation\")\n",
        "      hospital.c2 = hospital.c2 + 1\n",
        "  def display(self):\n",
        "    print(\"Number of patients who need oxygen support : \" ,hospital.c1)\n",
        "    print(\"Number of patients in observation : \" ,hospital.c2)\n",
        "    print(\"Total number of patients : \",hospital.c1+hospital.c2)\n",
        "\n",
        "a1 = hospital(\"ABCD\")\n",
        "a2 = hospital(\"EFGH\")\n",
        "a3 = hospital(\"IJKL\")\n",
        "a4 = hospital(\"MNOP\")\n",
        "a1.display()"
      ],
      "execution_count": null,
      "outputs": [
        {
          "output_type": "error",
          "ename": "KeyboardInterrupt",
          "evalue": "ignored",
          "traceback": [
            "\u001b[0;31m---------------------------------------------------------------------------\u001b[0m",
            "\u001b[0;31mKeyboardInterrupt\u001b[0m                         Traceback (most recent call last)",
            "\u001b[0;32m/usr/local/lib/python3.7/dist-packages/ipykernel/kernelbase.py\u001b[0m in \u001b[0;36m_input_request\u001b[0;34m(self, prompt, ident, parent, password)\u001b[0m\n\u001b[1;32m    728\u001b[0m             \u001b[0;32mtry\u001b[0m\u001b[0;34m:\u001b[0m\u001b[0;34m\u001b[0m\u001b[0;34m\u001b[0m\u001b[0m\n\u001b[0;32m--> 729\u001b[0;31m                 \u001b[0mident\u001b[0m\u001b[0;34m,\u001b[0m \u001b[0mreply\u001b[0m \u001b[0;34m=\u001b[0m \u001b[0mself\u001b[0m\u001b[0;34m.\u001b[0m\u001b[0msession\u001b[0m\u001b[0;34m.\u001b[0m\u001b[0mrecv\u001b[0m\u001b[0;34m(\u001b[0m\u001b[0mself\u001b[0m\u001b[0;34m.\u001b[0m\u001b[0mstdin_socket\u001b[0m\u001b[0;34m,\u001b[0m \u001b[0;36m0\u001b[0m\u001b[0;34m)\u001b[0m\u001b[0;34m\u001b[0m\u001b[0;34m\u001b[0m\u001b[0m\n\u001b[0m\u001b[1;32m    730\u001b[0m             \u001b[0;32mexcept\u001b[0m \u001b[0mException\u001b[0m\u001b[0;34m:\u001b[0m\u001b[0;34m\u001b[0m\u001b[0;34m\u001b[0m\u001b[0m\n",
            "\u001b[0;32m/usr/local/lib/python3.7/dist-packages/jupyter_client/session.py\u001b[0m in \u001b[0;36mrecv\u001b[0;34m(self, socket, mode, content, copy)\u001b[0m\n\u001b[1;32m    802\u001b[0m         \u001b[0;32mtry\u001b[0m\u001b[0;34m:\u001b[0m\u001b[0;34m\u001b[0m\u001b[0;34m\u001b[0m\u001b[0m\n\u001b[0;32m--> 803\u001b[0;31m             \u001b[0mmsg_list\u001b[0m \u001b[0;34m=\u001b[0m \u001b[0msocket\u001b[0m\u001b[0;34m.\u001b[0m\u001b[0mrecv_multipart\u001b[0m\u001b[0;34m(\u001b[0m\u001b[0mmode\u001b[0m\u001b[0;34m,\u001b[0m \u001b[0mcopy\u001b[0m\u001b[0;34m=\u001b[0m\u001b[0mcopy\u001b[0m\u001b[0;34m)\u001b[0m\u001b[0;34m\u001b[0m\u001b[0;34m\u001b[0m\u001b[0m\n\u001b[0m\u001b[1;32m    804\u001b[0m         \u001b[0;32mexcept\u001b[0m \u001b[0mzmq\u001b[0m\u001b[0;34m.\u001b[0m\u001b[0mZMQError\u001b[0m \u001b[0;32mas\u001b[0m \u001b[0me\u001b[0m\u001b[0;34m:\u001b[0m\u001b[0;34m\u001b[0m\u001b[0;34m\u001b[0m\u001b[0m\n",
            "\u001b[0;32m/usr/local/lib/python3.7/dist-packages/zmq/sugar/socket.py\u001b[0m in \u001b[0;36mrecv_multipart\u001b[0;34m(self, flags, copy, track)\u001b[0m\n\u001b[1;32m    618\u001b[0m         \"\"\"\n\u001b[0;32m--> 619\u001b[0;31m         \u001b[0mparts\u001b[0m \u001b[0;34m=\u001b[0m \u001b[0;34m[\u001b[0m\u001b[0mself\u001b[0m\u001b[0;34m.\u001b[0m\u001b[0mrecv\u001b[0m\u001b[0;34m(\u001b[0m\u001b[0mflags\u001b[0m\u001b[0;34m,\u001b[0m \u001b[0mcopy\u001b[0m\u001b[0;34m=\u001b[0m\u001b[0mcopy\u001b[0m\u001b[0;34m,\u001b[0m \u001b[0mtrack\u001b[0m\u001b[0;34m=\u001b[0m\u001b[0mtrack\u001b[0m\u001b[0;34m)\u001b[0m\u001b[0;34m]\u001b[0m\u001b[0;34m\u001b[0m\u001b[0;34m\u001b[0m\u001b[0m\n\u001b[0m\u001b[1;32m    620\u001b[0m         \u001b[0;31m# have first part already, only loop while more to receive\u001b[0m\u001b[0;34m\u001b[0m\u001b[0;34m\u001b[0m\u001b[0;34m\u001b[0m\u001b[0m\n",
            "\u001b[0;32mzmq/backend/cython/socket.pyx\u001b[0m in \u001b[0;36mzmq.backend.cython.socket.Socket.recv\u001b[0;34m()\u001b[0m\n",
            "\u001b[0;32mzmq/backend/cython/socket.pyx\u001b[0m in \u001b[0;36mzmq.backend.cython.socket.Socket.recv\u001b[0;34m()\u001b[0m\n",
            "\u001b[0;32mzmq/backend/cython/socket.pyx\u001b[0m in \u001b[0;36mzmq.backend.cython.socket._recv_copy\u001b[0;34m()\u001b[0m\n",
            "\u001b[0;32m/usr/local/lib/python3.7/dist-packages/zmq/backend/cython/checkrc.pxd\u001b[0m in \u001b[0;36mzmq.backend.cython.checkrc._check_rc\u001b[0;34m()\u001b[0m\n",
            "\u001b[0;31mKeyboardInterrupt\u001b[0m: ",
            "\nDuring handling of the above exception, another exception occurred:\n",
            "\u001b[0;31mKeyboardInterrupt\u001b[0m                         Traceback (most recent call last)",
            "\u001b[0;32m<ipython-input-65-0ed248af4c59>\u001b[0m in \u001b[0;36m<module>\u001b[0;34m()\u001b[0m\n\u001b[1;32m     22\u001b[0m     \u001b[0mprint\u001b[0m\u001b[0;34m(\u001b[0m\u001b[0;34m\"Total number of patients : \"\u001b[0m\u001b[0;34m,\u001b[0m\u001b[0mhospital\u001b[0m\u001b[0;34m.\u001b[0m\u001b[0mc1\u001b[0m\u001b[0;34m+\u001b[0m\u001b[0mhospital\u001b[0m\u001b[0;34m.\u001b[0m\u001b[0mc2\u001b[0m\u001b[0;34m)\u001b[0m\u001b[0;34m\u001b[0m\u001b[0;34m\u001b[0m\u001b[0m\n\u001b[1;32m     23\u001b[0m \u001b[0;34m\u001b[0m\u001b[0m\n\u001b[0;32m---> 24\u001b[0;31m \u001b[0ma1\u001b[0m \u001b[0;34m=\u001b[0m \u001b[0mhospital\u001b[0m\u001b[0;34m(\u001b[0m\u001b[0;34m\"ABCD\"\u001b[0m\u001b[0;34m)\u001b[0m\u001b[0;34m\u001b[0m\u001b[0;34m\u001b[0m\u001b[0m\n\u001b[0m\u001b[1;32m     25\u001b[0m \u001b[0ma2\u001b[0m \u001b[0;34m=\u001b[0m \u001b[0mhospital\u001b[0m\u001b[0;34m(\u001b[0m\u001b[0;34m\"EFGH\"\u001b[0m\u001b[0;34m)\u001b[0m\u001b[0;34m\u001b[0m\u001b[0;34m\u001b[0m\u001b[0m\n\u001b[1;32m     26\u001b[0m \u001b[0ma3\u001b[0m \u001b[0;34m=\u001b[0m \u001b[0mhospital\u001b[0m\u001b[0;34m(\u001b[0m\u001b[0;34m\"IJKL\"\u001b[0m\u001b[0;34m)\u001b[0m\u001b[0;34m\u001b[0m\u001b[0;34m\u001b[0m\u001b[0m\n",
            "\u001b[0;32m<ipython-input-65-0ed248af4c59>\u001b[0m in \u001b[0;36m__init__\u001b[0;34m(self, name)\u001b[0m\n\u001b[1;32m      4\u001b[0m     \u001b[0mself\u001b[0m\u001b[0;34m.\u001b[0m\u001b[0mname\u001b[0m \u001b[0;34m=\u001b[0m \u001b[0mname\u001b[0m\u001b[0;34m\u001b[0m\u001b[0;34m\u001b[0m\u001b[0m\n\u001b[1;32m      5\u001b[0m     \u001b[0mlist_of_symptoms\u001b[0m \u001b[0;34m=\u001b[0m \u001b[0;34m[\u001b[0m\u001b[0;34m]\u001b[0m\u001b[0;34m\u001b[0m\u001b[0;34m\u001b[0m\u001b[0m\n\u001b[0;32m----> 6\u001b[0;31m     \u001b[0mdate_of_admission\u001b[0m \u001b[0;34m=\u001b[0m \u001b[0minput\u001b[0m\u001b[0;34m(\u001b[0m\u001b[0;34m\"Date of admission :\"\u001b[0m\u001b[0;34m)\u001b[0m\u001b[0;34m\u001b[0m\u001b[0;34m\u001b[0m\u001b[0m\n\u001b[0m\u001b[1;32m      7\u001b[0m     \u001b[0mdate_of_discharge\u001b[0m \u001b[0;34m=\u001b[0m \u001b[0minput\u001b[0m\u001b[0;34m(\u001b[0m\u001b[0;34m\"Date of discharge :\"\u001b[0m\u001b[0;34m)\u001b[0m\u001b[0;34m\u001b[0m\u001b[0;34m\u001b[0m\u001b[0m\n\u001b[1;32m      8\u001b[0m     \u001b[0mn\u001b[0m \u001b[0;34m=\u001b[0m \u001b[0mint\u001b[0m\u001b[0;34m(\u001b[0m\u001b[0minput\u001b[0m\u001b[0;34m(\u001b[0m\u001b[0;34m\"Total number of symptoms : \"\u001b[0m\u001b[0;34m)\u001b[0m\u001b[0;34m)\u001b[0m\u001b[0;34m\u001b[0m\u001b[0;34m\u001b[0m\u001b[0m\n",
            "\u001b[0;32m/usr/local/lib/python3.7/dist-packages/ipykernel/kernelbase.py\u001b[0m in \u001b[0;36mraw_input\u001b[0;34m(self, prompt)\u001b[0m\n\u001b[1;32m    702\u001b[0m             \u001b[0mself\u001b[0m\u001b[0;34m.\u001b[0m\u001b[0m_parent_ident\u001b[0m\u001b[0;34m,\u001b[0m\u001b[0;34m\u001b[0m\u001b[0;34m\u001b[0m\u001b[0m\n\u001b[1;32m    703\u001b[0m             \u001b[0mself\u001b[0m\u001b[0;34m.\u001b[0m\u001b[0m_parent_header\u001b[0m\u001b[0;34m,\u001b[0m\u001b[0;34m\u001b[0m\u001b[0;34m\u001b[0m\u001b[0m\n\u001b[0;32m--> 704\u001b[0;31m             \u001b[0mpassword\u001b[0m\u001b[0;34m=\u001b[0m\u001b[0;32mFalse\u001b[0m\u001b[0;34m,\u001b[0m\u001b[0;34m\u001b[0m\u001b[0;34m\u001b[0m\u001b[0m\n\u001b[0m\u001b[1;32m    705\u001b[0m         )\n\u001b[1;32m    706\u001b[0m \u001b[0;34m\u001b[0m\u001b[0m\n",
            "\u001b[0;32m/usr/local/lib/python3.7/dist-packages/ipykernel/kernelbase.py\u001b[0m in \u001b[0;36m_input_request\u001b[0;34m(self, prompt, ident, parent, password)\u001b[0m\n\u001b[1;32m    732\u001b[0m             \u001b[0;32mexcept\u001b[0m \u001b[0mKeyboardInterrupt\u001b[0m\u001b[0;34m:\u001b[0m\u001b[0;34m\u001b[0m\u001b[0;34m\u001b[0m\u001b[0m\n\u001b[1;32m    733\u001b[0m                 \u001b[0;31m# re-raise KeyboardInterrupt, to truncate traceback\u001b[0m\u001b[0;34m\u001b[0m\u001b[0;34m\u001b[0m\u001b[0;34m\u001b[0m\u001b[0m\n\u001b[0;32m--> 734\u001b[0;31m                 \u001b[0;32mraise\u001b[0m \u001b[0mKeyboardInterrupt\u001b[0m\u001b[0;34m\u001b[0m\u001b[0;34m\u001b[0m\u001b[0m\n\u001b[0m\u001b[1;32m    735\u001b[0m             \u001b[0;32melse\u001b[0m\u001b[0;34m:\u001b[0m\u001b[0;34m\u001b[0m\u001b[0;34m\u001b[0m\u001b[0m\n\u001b[1;32m    736\u001b[0m                 \u001b[0;32mbreak\u001b[0m\u001b[0;34m\u001b[0m\u001b[0;34m\u001b[0m\u001b[0m\n",
            "\u001b[0;31mKeyboardInterrupt\u001b[0m: "
          ]
        }
      ]
    },
    {
      "cell_type": "markdown",
      "metadata": {
        "id": "O-EwftHg55a2"
      },
      "source": [
        "# **PROBLEM-6**"
      ]
    },
    {
      "cell_type": "code",
      "metadata": {
        "colab": {
          "base_uri": "https://localhost:8080/"
        },
        "id": "gIJ5ajVZ5-y5",
        "outputId": "c4ea6947-79c0-4ffc-e8bd-542821c84ddb"
      },
      "source": [
        "class time:\n",
        "  hours,minutes,seconds = 0,0,0\n",
        "\n",
        "  def __init__(self ):\n",
        "   self.hours=0\n",
        "   self.minutes=0\n",
        "   self.seconds=0\n",
        " \n",
        "  def __init__(self ):\n",
        "   self.hours=4\n",
        "   self.minutes=20\n",
        "   self.seconds=22\n",
        "\n",
        "  def display(self):\n",
        "     print(\"Time in HH:MM:SS Format :\")\n",
        "     print(self.hours,self.minutes,self.seconds,sep=':' )\n",
        "\n",
        "obj=time()\n",
        "obj.display()   "
      ],
      "execution_count": null,
      "outputs": [
        {
          "output_type": "stream",
          "name": "stdout",
          "text": [
            "Time in HH:MM:SS Format :\n",
            "4:20:22\n"
          ]
        }
      ]
    },
    {
      "cell_type": "markdown",
      "metadata": {
        "id": "WCR0GjOH-fMd"
      },
      "source": [
        "# **PROBLEM-7**"
      ]
    },
    {
      "cell_type": "code",
      "metadata": {
        "colab": {
          "base_uri": "https://localhost:8080/"
        },
        "id": "3d4EWKeF-ni7",
        "outputId": "1d6476c0-285d-4279-d461-b2e4dc6aaed9"
      },
      "source": [
        "class students:\n",
        " std1=[\"Rahul\",21,33]\n",
        " std2=[\"Rohit\",22,74]\n",
        "\n",
        " def compare(self):\n",
        "   if self.std1[2] == self.std2[2] :\n",
        "    print(\"EQUAL\")\n",
        "   else :\n",
        "    print(\"UNEQUAL\")\n",
        "\n",
        "obj=students()\n",
        "obj.compare()  "
      ],
      "execution_count": null,
      "outputs": [
        {
          "output_type": "stream",
          "name": "stdout",
          "text": [
            "UNEQUAL\n"
          ]
        }
      ]
    },
    {
      "cell_type": "markdown",
      "metadata": {
        "id": "FEED1LOrBkV2"
      },
      "source": [
        "# **PROBLEM-8**"
      ]
    },
    {
      "cell_type": "code",
      "metadata": {
        "colab": {
          "base_uri": "https://localhost:8080/"
        },
        "id": "56Uu1WGkBs2H",
        "outputId": "d3954fe1-cd14-4d15-e2f8-4fa0781515f0"
      },
      "source": [
        "class details:\n",
        "  Sem,Institute=0, \"\"\n",
        "\n",
        "  def __init__(self,name,Usn):\n",
        "    self.Name=name\n",
        "    self.usn=Usn\n",
        "\n",
        "    print(\"Name :\",self.Name,\"\\nUSN :\",self.usn)\n",
        "d=details(\"Sri Hari\",129)\n",
        "d.Sem=3\n",
        "d.Institute=\"IIIT Dharwad\"\n",
        "print(\"\\nSemester :\",d.Sem, \"\\nInstitute :\",d.Institute)    "
      ],
      "execution_count": null,
      "outputs": [
        {
          "output_type": "stream",
          "name": "stdout",
          "text": [
            "Name : Sri Hari \n",
            "USN : 129\n",
            "\n",
            "Semester : 3 \n",
            "Institute : IIIT Dharwad\n"
          ]
        }
      ]
    },
    {
      "cell_type": "markdown",
      "metadata": {
        "id": "tJoiPqBrGknj"
      },
      "source": [
        "# **PROBLEM-9**"
      ]
    },
    {
      "cell_type": "code",
      "metadata": {
        "colab": {
          "base_uri": "https://localhost:8080/"
        },
        "id": "czsPfiFxGqCC",
        "outputId": "d0a3dc1c-11bf-4c0f-8bde-3ecbb505aa51"
      },
      "source": [
        "class student:\n",
        "  name = \"Sri Hari\"\n",
        "  roll_no = 129\n",
        "  sem = 3\n",
        "  def details(self):\n",
        "    print(student.name,student.roll_no,student.sem)\n",
        "  class laptop:\n",
        "    def __init__(self):\n",
        "      self.brand = \"ASUS\"\n",
        "      self.cpu = \"i5\"\n",
        "      self.ram = \"8GB\"\n",
        "    def display(self):\n",
        "      print(self.brand,self.cpu,self.ram)\n",
        "\n",
        "s = student()\n",
        "s.details()\n",
        "l = student.laptop()\n",
        "l.display()"
      ],
      "execution_count": 1,
      "outputs": [
        {
          "output_type": "stream",
          "name": "stdout",
          "text": [
            "Sri Hari 129 3\n",
            "ASUS i5 8GB\n"
          ]
        }
      ]
    }
  ]
}