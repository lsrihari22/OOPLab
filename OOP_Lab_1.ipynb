{
  "nbformat": 4,
  "nbformat_minor": 0,
  "metadata": {
    "colab": {
      "name": "OOP_Lab-1.ipynb",
      "provenance": [],
      "collapsed_sections": [],
      "authorship_tag": "ABX9TyOVIbPU/+Uzo5/9gP1xCCBH",
      "include_colab_link": true
    },
    "kernelspec": {
      "name": "python3",
      "display_name": "Python 3"
    },
    "language_info": {
      "name": "python"
    }
  },
  "cells": [
    {
      "cell_type": "markdown",
      "metadata": {
        "id": "view-in-github",
        "colab_type": "text"
      },
      "source": [
        "<a href=\"https://colab.research.google.com/github/lsrihari22/OOPLab/blob/main/OOP_Lab_1.ipynb\" target=\"_parent\"><img src=\"https://colab.research.google.com/assets/colab-badge.svg\" alt=\"Open In Colab\"/></a>"
      ]
    },
    {
      "cell_type": "markdown",
      "metadata": {
        "id": "L5akY6n-nlZm"
      },
      "source": [
        "# **PROBLEM-1**\n",
        "Write function to decide whether it is a leap year. If it is a leap year, return the Boolean True,\n",
        "otherwise return False."
      ]
    },
    {
      "cell_type": "code",
      "metadata": {
        "colab": {
          "base_uri": "https://localhost:8080/"
        },
        "id": "Xyuq0a1rkmUX",
        "outputId": "3acf7a38-f2ed-40ff-ccd1-98511346b205"
      },
      "source": [
        "def leapYear(year):\n",
        "  if(year%4!=0):\n",
        "    return False\n",
        "  \n",
        "  while year%4==0:\n",
        "  \n",
        "     if(year%100==0):\n",
        "       if(year%400!=0):\n",
        "        return False\n",
        "  \n",
        "     return True   \n",
        "print(leapYear(300))\n"
      ],
      "execution_count": null,
      "outputs": [
        {
          "output_type": "stream",
          "name": "stdout",
          "text": [
            "False\n"
          ]
        }
      ]
    },
    {
      "cell_type": "markdown",
      "metadata": {
        "id": "yekNeiUdn6JP"
      },
      "source": [
        "# **PROBLEM-2**\n",
        "Given an integer ‘n’, write a python code to perform the following conditional actions:\n",
        "1. If ‘n’ is odd, print Weird\n",
        "2. If ‘n’ is even and in the inclusive range of 2 to 5, print Not Weird\n",
        "3. If ‘n’ is even and in the inclusive range of 6 to 20, print Weird\n",
        "4. If ‘n’ is even and greater than 20, print Not Weird"
      ]
    },
    {
      "cell_type": "code",
      "metadata": {
        "colab": {
          "base_uri": "https://localhost:8080/"
        },
        "id": "SZKWc075oDpG",
        "outputId": "9adedf1f-4c43-4069-ea1e-8bad63a1a755"
      },
      "source": [
        "n=int(input(\"Enter a number: \"))\n",
        "\n",
        "if(n%2==1):\n",
        " print(\"Weird\")\n",
        "\n",
        "if(n%2==0):\n",
        "  if(2<=n<=5): \n",
        "   print(\"Not Weird\")\n",
        "\n",
        "  if(6<=n<=20): \n",
        "   print(\"Weird\")\n",
        "  \n",
        "  if(n>20): \n",
        "   print(\" Not Weird\")"
      ],
      "execution_count": null,
      "outputs": [
        {
          "output_type": "stream",
          "name": "stdout",
          "text": [
            "Enter a number: 15\n",
            "Weird\n"
          ]
        }
      ]
    },
    {
      "cell_type": "markdown",
      "metadata": {
        "id": "GA7TKU3LqHwO"
      },
      "source": [
        "# **PROBLEM-3**\n",
        "Write the function which takes a list of party attendees as well as a person, and tells us whether\n",
        "that person is fashionably late."
      ]
    },
    {
      "cell_type": "code",
      "metadata": {
        "colab": {
          "base_uri": "https://localhost:8080/"
        },
        "id": "z4wQrHQ3qZT7",
        "outputId": "8589eafe-777f-4f68-e643-725bf0849d73"
      },
      "source": [
        "Arrivals = ['Hardik', 'Rahul', 'Virat', 'Rishabh', 'Mahi','Rohit', 'Rahane']\n",
        "n=len(Arrivals)\n",
        "for index in range(int(n/2) , n-1):\n",
        "    value = Arrivals[index]\n",
        "    print( value)"
      ],
      "execution_count": null,
      "outputs": [
        {
          "output_type": "stream",
          "name": "stdout",
          "text": [
            "Rishabh\n",
            "Mahi\n",
            "Rohit\n"
          ]
        }
      ]
    },
    {
      "cell_type": "markdown",
      "metadata": {
        "id": "IxiuRpgQtvTS"
      },
      "source": [
        "# **PROBLEM-4**\n"
      ]
    },
    {
      "cell_type": "code",
      "metadata": {
        "colab": {
          "base_uri": "https://localhost:8080/"
        },
        "id": "IQ1-OesluGh2",
        "outputId": "01c0172b-95a6-46b1-ad7d-4355e0320930"
      },
      "source": [
        "doc_list = ['The Learn Python Challenge Rohit', 'They bought a car', 'bangalore']\n",
        "n=len(doc_list)\n",
        "\n",
        "ele=input(\"Enter the word to be searched: \")\n",
        "ele=ele.lower()\n",
        "\n",
        "\n",
        "for x in range(n):\n",
        " str=doc_list[x]\n",
        " st=str.split()\n",
        " for y in range(len(st)):\n",
        "   if(st[y].lower()==ele):\n",
        "     print(\"Element found:\",st[y])\n",
        " \n"
      ],
      "execution_count": null,
      "outputs": [
        {
          "output_type": "stream",
          "name": "stdout",
          "text": [
            "Enter the word to be searched: a\n",
            "Element found: a\n"
          ]
        }
      ]
    },
    {
      "cell_type": "markdown",
      "metadata": {
        "id": "zOposv5j2oQq"
      },
      "source": [
        "# **Problem-5**\n",
        "An Employee&#39;s Basic Pay (BP) is to be read from user. DA is 40% of BP, HRA is 20% of BP,\n",
        "and write a function to calculate the Gross Pay (GP) GP is computed as BP + DA + HRA."
      ]
    },
    {
      "cell_type": "code",
      "metadata": {
        "colab": {
          "base_uri": "https://localhost:8080/"
        },
        "id": "NAnAqrsE2vXr",
        "outputId": "51b372f0-deaf-45eb-d0a1-09df93381621"
      },
      "source": [
        "BP=int(input(\"Enter your Basic Pay \"))\n",
        "\n",
        "DA=BP*0.4\n",
        "HRA=BP*0.2\n",
        "\n",
        "def GrossPay(BP,DA,HRA):\n",
        "  GP=BP + DA + HRA\n",
        "  return GP\n",
        "\n",
        "print(\"Gross Pay is:\",GrossPay(BP,DA,HRA)) "
      ],
      "execution_count": null,
      "outputs": [
        {
          "output_type": "stream",
          "name": "stdout",
          "text": [
            "Enter your Basic Pay 100\n",
            "Gross Pay is: 160.0\n"
          ]
        }
      ]
    }
  ]
}