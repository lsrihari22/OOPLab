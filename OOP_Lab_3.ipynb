{
  "nbformat": 4,
  "nbformat_minor": 0,
  "metadata": {
    "colab": {
      "name": "OOP_Lab-3.ipynb",
      "provenance": [],
      "authorship_tag": "ABX9TyMVJ302T96UsWU7R+zifaPb",
      "include_colab_link": true
    },
    "kernelspec": {
      "name": "python3",
      "display_name": "Python 3"
    },
    "language_info": {
      "name": "python"
    }
  },
  "cells": [
    {
      "cell_type": "markdown",
      "metadata": {
        "id": "view-in-github",
        "colab_type": "text"
      },
      "source": [
        "<a href=\"https://colab.research.google.com/github/lsrihari22/OOPLab/blob/main/OOP_Lab_3.ipynb\" target=\"_parent\"><img src=\"https://colab.research.google.com/assets/colab-badge.svg\" alt=\"Open In Colab\"/></a>"
      ]
    },
    {
      "cell_type": "markdown",
      "metadata": {
        "id": "cpGx5YSyMCOh"
      },
      "source": [
        "# **Program-1**"
      ]
    },
    {
      "cell_type": "code",
      "metadata": {
        "colab": {
          "base_uri": "https://localhost:8080/"
        },
        "id": "TihpjZZdL8hz",
        "outputId": "edbe2616-835b-4684-d430-b77b98bc2cf5"
      },
      "source": [
        "class Student:\n",
        "  def read(self):\n",
        "    self.name = str(input(\"Enter student's name :\"))\n",
        "    self.regNo = (input(\"Enter registration number :\"))\n",
        "    self.age = int(input(\"Enter student's age :\"))\n",
        "    self.gender = str(input(\"Enter student's gender :\"))\n",
        "    self.branch = str(input(\"Enter student's branch :\"))\n",
        "    self.sem = int(input(\"Enter semester :\"))\n",
        "\n",
        "  def display(self):\n",
        "    print(f\"\\n Name: {self.name}\\n Reg. no: {(self.regNo)}\\n Age: {(self.age)}\\n Gender:{self.gender}\\n Branch: {self.branch}\\n Semester: {self.sem}\")\n",
        "\n",
        "class StudentResultInfo(Student):\n",
        "  def __init__(self, totalMarks, percentage, grade):\n",
        "    self.totalMarks = totalMarks\n",
        "    self.percentage = percentage\n",
        "    self.grade = grade\n",
        "\n",
        "  def displayData(self):\n",
        "    print(\"\\n\\n *****  Basic Information *****\")\n",
        "    self.display()\n",
        "    print(f\"\\n ***** Students Result ***** \\n\\n Total marks: {(self.totalMarks)}\\n Percentage: {(self.percentage)} % Grade: {self.grade}\")\n",
        "\n",
        "std1 = StudentResultInfo(600, 98, 'A+')\n",
        "std1.read()\n",
        "std1.display()\n",
        "std1.displayData()"
      ],
      "execution_count": 4,
      "outputs": [
        {
          "output_type": "stream",
          "name": "stdout",
          "text": [
            "Enter student's name :Sri Hari\n",
            "Enter registration number :20bcs129\n",
            "Enter student's age :19\n",
            "Enter student's gender :Male\n",
            "Enter student's branch :CSE\n",
            "Enter semester :3\n",
            "\n",
            " Name: Sri Hari\n",
            " Reg. no: 20bcs129\n",
            " Age: 19\n",
            " Gender:Male\n",
            " Branch: CSE\n",
            " Semester: 3\n",
            "\n",
            "\n",
            " *****  Basic Information *****\n",
            "\n",
            " Name: Sri Hari\n",
            " Reg. no: 20bcs129\n",
            " Age: 19\n",
            " Gender:Male\n",
            " Branch: CSE\n",
            " Semester: 3\n",
            "\n",
            " ***** Students Result ***** \n",
            "\n",
            " Total marks: 600\n",
            " Percentage: 98 % Grade: A+\n"
          ]
        }
      ]
    },
    {
      "cell_type": "markdown",
      "metadata": {
        "id": "PhvRWOoOOhuA"
      },
      "source": [
        "# **Program-2**"
      ]
    },
    {
      "cell_type": "code",
      "metadata": {
        "colab": {
          "base_uri": "https://localhost:8080/"
        },
        "id": "G3MR2tqEOmD3",
        "outputId": "cbad09b6-114b-484d-936a-94ec99a66479"
      },
      "source": [
        "class PDFs:\n",
        "  def __init__(self, creator, desc, size):\n",
        "    self.creator = creator\n",
        "    self.desc = desc\n",
        "    self.size = size\n",
        "\n",
        "  def displayInfo(self):\n",
        "    print(\"Created by:\",self.creator)\n",
        "    print(\"Description:\", self.desc)\n",
        "    print(\"File size (in KBs):\", self.size)\n",
        "\n",
        "  def sizeLimit(self):\n",
        "    if self.size > 1024:\n",
        "      print(\"Size exceeds threshold limit.\\n\")\n",
        "    else:\n",
        "      print(\"Size is within the threshold limit.\\n\")\n",
        "\n",
        "class Pictures(PDFs):\n",
        "  def __init__(self, creator, description, size, dimension):\n",
        "    super().__init__(creator, description, size)\n",
        "    self.dimension = dimension\n",
        "\n",
        "  def displayPicInfo(self):\n",
        "    self.displayInfo()\n",
        "    print(\"Dimensions (in pixels):\", self.dimension)\n",
        "\n",
        "  def dimensionLimit(self):\n",
        "    if self.dimension>2000:\n",
        "      print(\" high dimension!\\n\")\n",
        "    else:\n",
        "      print(\" dimensions are fine.\\n\")\n",
        "      \n",
        "pdf1 = PDFs(\"Hari\",\"OOP Assignment\",1006)\n",
        "pdf1.displayInfo()\n",
        "pdf1.sizeLimit()\n",
        "print()\n",
        "img = Pictures(\"Sri\",\"OOP Notes\", 269,2)\n",
        "img.displayPicInfo()\n",
        "img.dimensionLimit()"
      ],
      "execution_count": 8,
      "outputs": [
        {
          "output_type": "stream",
          "name": "stdout",
          "text": [
            "Created by: Hari\n",
            "Description: OOP Assignment\n",
            "File size (in KBs): 1006\n",
            "Size is within the threshold limit.\n",
            "\n",
            "\n",
            "Created by: Sri\n",
            "Description: OOP Notes\n",
            "File size (in KBs): 269\n",
            "Dimensions (in pixels): 2\n",
            " dimensions are fine.\n",
            "\n"
          ]
        }
      ]
    },
    {
      "cell_type": "markdown",
      "metadata": {
        "id": "s0T6bVLCQKgs"
      },
      "source": [
        "# **Program-2**"
      ]
    },
    {
      "cell_type": "code",
      "metadata": {
        "colab": {
          "base_uri": "https://localhost:8080/"
        },
        "id": "HqUYZVT2QPh-",
        "outputId": "0b23be14-02a1-4256-d214-b2b15a4ef7a1"
      },
      "source": [
        "class Vehicle:\n",
        "    def __init__(self, name, mileage, capacity):\n",
        "        self.name = name\n",
        "        self.mileage = mileage\n",
        "        self.capacity = capacity\n",
        "\n",
        "    def fare(self):\n",
        "        return self.capacity * 100\n",
        "\n",
        "class Bus(Vehicle):\n",
        "    \n",
        "    def fare(self):\n",
        "        fare_bus = self.capacity * 100 \n",
        "        total_fare = fare_bus * 1.1\n",
        "        return total_fare\n",
        "\n",
        "School_bus = Bus(\"School Volvo\", 15, 40)\n",
        "print(\"Total Bus fare is:\", School_bus.fare())"
      ],
      "execution_count": 11,
      "outputs": [
        {
          "output_type": "stream",
          "name": "stdout",
          "text": [
            "Total Bus fare is: 4400.0\n"
          ]
        }
      ]
    }
  ]
}